{
 "cells": [
  {
   "cell_type": "code",
   "execution_count": null,
   "id": "fa6f91c1-300f-4dc3-99c0-1995017754b3",
   "metadata": {},
   "outputs": [],
   "source": [
    "import re\n",
    "from pdfplumber import open as pdf_open\n",
    "from transformers import AutoTokenizer, AutoModelForSequenceClassification\n",
    "import torch\n",
    "\n",
    "# Step 1: Extract text from PDF\n",
    "def extract_text(pdf_path):\n",
    "    with pdf_open(pdf_path) as pdf:\n",
    "        text = \"\"\n",
    "        for page in pdf.pages:\n",
    "            text += page.extract_text()\n",
    "    return text\n",
    "\n",
    "# Step 2: Segment text into potential questions\n",
    "def segment_questions(text):\n",
    "    return re.split(r'\\n\\d+\\.', text)  # Splits at numbered questions like \"1.\"\n",
    "\n",
    "# Step 3: Classify segments into question types\n",
    "def classify_segments(segments):\n",
    "    model_name = \"bert-base-uncased\"  # Load pre-trained or fine-tuned BERT\n",
    "    tokenizer = AutoTokenizer.from_pretrained(model_name)\n",
    "    model = AutoModelForSequenceClassification.from_pretrained(model_name, num_labels=3)  # MCQ, Numerical, Other\n",
    "    \n",
    "    predictions = []\n",
    "    for segment in segments:\n",
    "        inputs = tokenizer(segment, return_tensors=\"pt\", truncation=True, padding=True)\n",
    "        outputs = model(**inputs)\n",
    "        logits = outputs.logits\n",
    "        label = torch.argmax(logits).item()\n",
    "        predictions.append((segment, label))\n",
    "    return predictions\n",
    "\n",
    "# Step 4: Run the pipeline\n",
    "pdf_path = \"B:\\PERSONAL DOCS\\BUSSINESS MODEL\\ONLINE EXAMINATION BUSINESS\\CODE\\PYTHON AI NLP PDF TO TEXT TO MCQ MODULE\\extract_segment_questions.py\"\n",
    "text = extract_text(pdf_path)\n",
    "segments = segment_questions(text)\n",
    "classified_segments = classify_segments(segments)\n",
    "\n",
    "for segment, label in classified_segments:\n",
    "    print(f\"Segment: {segment[:50]}... | Label: {label}\")\n"
   ]
  }
 ],
 "metadata": {
  "kernelspec": {
   "display_name": "Python 3 (ipykernel)",
   "language": "python",
   "name": "python3"
  },
  "language_info": {
   "codemirror_mode": {
    "name": "ipython",
    "version": 3
   },
   "file_extension": ".py",
   "mimetype": "text/x-python",
   "name": "python",
   "nbconvert_exporter": "python",
   "pygments_lexer": "ipython3",
   "version": "3.11.0"
  }
 },
 "nbformat": 4,
 "nbformat_minor": 5
}
